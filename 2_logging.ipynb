{
 "metadata": {
  "language_info": {
   "codemirror_mode": {
    "name": "ipython",
    "version": 3
   },
   "file_extension": ".py",
   "mimetype": "text/x-python",
   "name": "python",
   "nbconvert_exporter": "python",
   "pygments_lexer": "ipython3",
   "version": "3.9.4-final"
  },
  "orig_nbformat": 2,
  "kernelspec": {
   "name": "python3",
   "display_name": "Python 3.9.4 64-bit ('3.9.4')",
   "metadata": {
    "interpreter": {
     "hash": "59c06c9916117ee3cf7398088a40d43f37726b6ab585d6f9afa3e48d6f8f2675"
    }
   }
  }
 },
 "nbformat": 4,
 "nbformat_minor": 2,
 "cells": [
  {
   "source": [
    "I want to generate logs to see what's going on\n",
    "\n",
    "In regular python, I could just add print() calls and the logs would be a side effect of the function. \n",
    "\n",
    "With a pure function, there is only one choice: we must return the log message as part of the function's return value\n",
    "```python\n",
    "def f(x):\n",
    "    return (x*x, \"log Message f : x -> x*x\")\n",
    "```\n",
    "This tuple will include the log value"
   ],
   "cell_type": "markdown",
   "metadata": {}
  },
  {
   "cell_type": "code",
   "execution_count": 5,
   "metadata": {},
   "outputs": [
    {
     "output_type": "stream",
     "name": "stdout",
     "text": [
      "Answer: 33\nLog: I squared 4\nI added 1 to 32\n\n"
     ]
    }
   ],
   "source": [
    "# logger: pass around a tuple of (value, log)\n",
    "def f(x):\n",
    "    value, log = x\n",
    "    return (value*value, \n",
    "            log + f\"I squared {value}\\n\")\n",
    "def g(x):\n",
    "    value, log = x\n",
    "    return (2*value, log)\n",
    "\n",
    "def h(x):\n",
    "    value, log = x\n",
    "    return (1 + value,\n",
    "            log + f\"I added 1 to {value}\\n\")\n",
    "\n",
    "v0 = (4, \"\")\n",
    "v1 = f(v0)\n",
    "v2 = g(v1)\n",
    "v3 = h(v2)\n",
    "#or: v3 = h(g(f(v0)))\n",
    "print(f\"Answer: {v3[0]}\")\n",
    "print(f\"Log: {v3[1]}\")\n",
    "\n"
   ]
  },
  {
   "cell_type": "code",
   "execution_count": 11,
   "metadata": {},
   "outputs": [
    {
     "output_type": "stream",
     "name": "stdout",
     "text": [
      "Answer: 33\nLog: I squared 4\nI added 1 to 32\n\n"
     ]
    }
   ],
   "source": [
    "# Let's refactor into a class to make it more pythonic\n",
    "\n",
    "class ValueAndLog:\n",
    "    def __init__(self, value, log):\n",
    "        self.value = value\n",
    "        self.log = log\n",
    "    \n",
    "    \n",
    "\n",
    "def f(data):\n",
    "    return_value = data.value * data.value\n",
    "    return_log = data.log  + f\"I squared {data.value}\\n\"\n",
    "    return ValueAndLog(data.value * data.value, \n",
    "                        data.log  + f\"I squared {data.value}\\n\")\n",
    "\n",
    "def g(data):\n",
    "    return ValueAndLog(2*data.value, data.log)\n",
    "\n",
    "def h(data):\n",
    "    return ValueAndLog(1+data.value, \n",
    "                        data.log + f\"I added 1 to {data.value}\\n\")\n",
    "\n",
    "v0 = ValueAndLog(4, \"\")\n",
    "v1 = f(v0)\n",
    "v2 = g(v1)\n",
    "v3 = h(v2)\n",
    "#or: v3 = h(g(f(v0)))\n",
    "\n",
    "print(\"Answer:\", v3.value)\n",
    "print(\"Log:\", v3.log)"
   ]
  },
  {
   "cell_type": "code",
   "execution_count": 24,
   "metadata": {},
   "outputs": [
    {
     "output_type": "stream",
     "name": "stdout",
     "text": [
      "Answer: 19\nLog: I squared 3\nI added 1 to 18\n\n"
     ]
    }
   ],
   "source": [
    "# Now let's refactor to remove the the duplicate parts\n",
    "\n",
    "class ValueAndLog:\n",
    "    def __init__(self, value, log):\n",
    "        self.value = value\n",
    "        self.log = log\n",
    "    \n",
    "    def __rshift__(self, func):\n",
    "        result = func(self.value)\n",
    "        return ValueAndLog(result.value,\n",
    "                            self.log + result.log)\n",
    "    @staticmethod\n",
    "    def unit(v):\n",
    "        return ValueAndLog(v,\"\")\n",
    "\n",
    "    @staticmethod\n",
    "    def lift(func):\n",
    "        return lambda val: ValueAndLog(func(val), \"\")\n",
    "\n",
    "def f(x):\n",
    "    return ValueAndLog(x*x, f\"I squared {x}\\n\")\n",
    "\n",
    "def g(x):\n",
    "    return ValueAndLog(2*x, \"\")\n",
    "\n",
    "def h(x):\n",
    "    return ValueAndLog(1+x,  f\"I added 1 to {x}\\n\")\n",
    "\n",
    "v3 = ValueAndLog.unit(3) >> f >> g >> h\n",
    "\n",
    "print(\"Answer:\", v3.value)\n",
    "print(\"Log:\", v3.log)"
   ]
  },
  {
   "cell_type": "code",
   "execution_count": 31,
   "metadata": {},
   "outputs": [
    {
     "output_type": "stream",
     "name": "stdout",
     "text": [
      "Answer: 19\nLog: I squared 3\nI added 1 to 18\n\n"
     ]
    }
   ],
   "source": [
    "class ValueAndLog:\n",
    "    def __init__(self, value, log):\n",
    "        self.value = value\n",
    "        self.log = log\n",
    "\n",
    "    def __rshift__(self, func):\n",
    "        result = func(self.value)\n",
    "        return ValueAndLog(result.value, self.log + result.log)\n",
    "\n",
    "    @staticmethod\n",
    "    def unit(v):\n",
    "        return ValueAndLog(v, \"\")\n",
    "\n",
    "    @staticmethod\n",
    "    def lift(f):\n",
    "        return compose(ValueAndLog.unit, f)\n",
    "\n",
    "def compose(f1, f2):\n",
    "    return lambda v: f1(f2(v))\n",
    "\n",
    "def f(x):\n",
    "    return ValueAndLog(x*x, \"I squared %d\\n\" % x)\n",
    "\n",
    "def g(x):\n",
    "    return 2*x\n",
    "\n",
    "def h(x):\n",
    "    return ValueAndLog(1+x, \"I added 1 to %d\\n\" % x)\n",
    "\n",
    "v3 = ValueAndLog.unit(3) >> f >> ValueAndLog.lift(g) >> h\n",
    "print(\"Answer:\", v3.value)\n",
    "print(\"Log:\", v3.log)"
   ]
  },
  {
   "source": [
    "this is an example of a more general composition pattern which consists of:<br>\n",
    "* A type (class) which wraps some data<br>\n",
    "* A “unit” function, which wraps a plain value inside an instance of this type\n",
    "* A “bind” function, which selectively applies another function to the unwrapped value, and manipulates that function’s return value\n",
    "\n",
    "It turns out there are a whole bunch of other ways to use this pattern, each with its own (class + unit + bind(>>)). You could almost say that they form a “category” of their own. <br><br>Examples include:\n",
    "* Dealing with nil or missing values: If the input value is not nil, then the bind method calls the provided function. If the input value is nil, then the bind method skips it entirely, and returns nil.\n",
    "* Dealing with errors: The return value from a function can be either a value or an error message. If the value passed along the chain to bind is an error, then the error propagates directly to the output.\n",
    "* Managing shared state: A state value is passed along the chain, and each function says how it wants to update that state"
   ],
   "cell_type": "markdown",
   "metadata": {}
  }
 ]
}