{
 "metadata": {
  "language_info": {
   "codemirror_mode": {
    "name": "ipython",
    "version": 3
   },
   "file_extension": ".py",
   "mimetype": "text/x-python",
   "name": "python",
   "nbconvert_exporter": "python",
   "pygments_lexer": "ipython3",
   "version": "3.9.4-final"
  },
  "orig_nbformat": 2,
  "kernelspec": {
   "name": "python3",
   "display_name": "Python 3.9.4 64-bit ('3.9.4')",
   "metadata": {
    "interpreter": {
     "hash": "59c06c9916117ee3cf7398088a40d43f37726b6ab585d6f9afa3e48d6f8f2675"
    }
   }
  }
 },
 "nbformat": 4,
 "nbformat_minor": 2,
 "cells": [
  {
   "source": [
    "\n",
    "## Composition\n",
    "Let's see three functions at work"
   ],
   "cell_type": "markdown",
   "metadata": {}
  },
  {
   "cell_type": "code",
   "execution_count": 6,
   "metadata": {},
   "outputs": [
    {
     "output_type": "execute_result",
     "data": {
      "text/plain": [
       "19"
      ]
     },
     "metadata": {},
     "execution_count": 6
    }
   ],
   "source": [
    "def f(x):\n",
    "    return x*x\n",
    "\n",
    "\n",
    "def g(x):\n",
    "    return 2*x\n",
    "\n",
    "def h(x):\n",
    "    return 1+x\n",
    "\n",
    "# Composition\n",
    "h(g(f(3)))"
   ]
  },
  {
   "cell_type": "code",
   "execution_count": 7,
   "metadata": {},
   "outputs": [
    {
     "output_type": "execute_result",
     "data": {
      "text/plain": [
       "19"
      ]
     },
     "metadata": {},
     "execution_count": 7
    }
   ],
   "source": [
    "# You could create a function to return the Composition in the correct order\n",
    "def hgf(v):\n",
    "    return h(g(f(v)))\n",
    "\n",
    "hgf(3)\n"
   ]
  },
  {
   "cell_type": "code",
   "execution_count": 9,
   "metadata": {},
   "outputs": [
    {
     "output_type": "execute_result",
     "data": {
      "text/plain": [
       "19"
      ]
     },
     "metadata": {},
     "execution_count": 9
    }
   ],
   "source": [
    "# However, we would rather need a function that will allow us to do this a multiple amount of times\n",
    "\n",
    "def compose(f1, f2):\n",
    "    return lambda v: f1(f2(v))\n",
    "\n",
    "hgf = compose(h, compose(g,f))\n",
    "hgf(3)\n",
    "\n",
    "#This is such a powerful idea that “functional” languages \n",
    "# have composition built-in: in Haskell this would be h . g . f\n",
    "\n",
    "# Notice how the data flows in to out"
   ]
  },
  {
   "cell_type": "code",
   "execution_count": 15,
   "metadata": {},
   "outputs": [
    {
     "output_type": "execute_result",
     "data": {
      "text/plain": [
       "19"
      ]
     },
     "metadata": {},
     "execution_count": 15
    }
   ],
   "source": [
    "# Let's make the data flow left to right\n",
    "\n",
    "class Value:\n",
    "    def __init__(self, value):\n",
    "        self.value = value\n",
    "\n",
    "    # `value >> func` \n",
    "    def __rshift__(self, other):\n",
    "        return other(self.value)\n",
    "\n",
    "def f(x):\n",
    "    return Value(x*x)\n",
    "def g(x):\n",
    "    return Value(2 * x)\n",
    "\n",
    "def h(x):\n",
    "    return Value(1 + x)\n",
    "\n",
    "# this is known as \"continuation passing\" style\n",
    "# evaluate this, then apply that value\n",
    "result = Value(3) >> f >> g >> h\n",
    "result.value\n",
    "\n"
   ]
  },
  {
   "cell_type": "code",
   "execution_count": 18,
   "metadata": {},
   "outputs": [
    {
     "output_type": "execute_result",
     "data": {
      "text/plain": [
       "19"
      ]
     },
     "metadata": {},
     "execution_count": 18
    }
   ],
   "source": [
    "# Let's make the data flow left to right\n",
    "\n",
    "class Value:\n",
    "    def __init__(self, value, log):\n",
    "        self.value = value\n",
    "        self.log = log\n",
    "\n",
    "    # `value >> func` \n",
    "    def __rshift__(self, func):\n",
    "        result = func(self.value)\n",
    "        return other(self.value)\n",
    "\n",
    "def f(x):\n",
    "    return Value(x*x)\n",
    "def g(x):\n",
    "    return Value(2 * x)\n",
    "\n",
    "def h(x):\n",
    "    return Value(1 + x)\n",
    "\n",
    "# this is known as \"continuation passing\" style\n",
    "# evaluate this, then apply that value\n",
    "result = Value(3) >> f >> g >> h\n",
    "result.value"
   ]
  },
  {
   "cell_type": "code",
   "execution_count": null,
   "metadata": {},
   "outputs": [],
   "source": []
  }
 ]
}